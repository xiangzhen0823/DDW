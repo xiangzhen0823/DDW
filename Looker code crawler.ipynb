{
 "cells": [
  {
   "cell_type": "code",
   "execution_count": 1,
   "metadata": {},
   "outputs": [],
   "source": [
    "import os\n",
    "import xlwt"
   ]
  },
  {
   "cell_type": "code",
   "execution_count": 2,
   "metadata": {},
   "outputs": [
    {
     "name": "stdout",
     "output_type": "stream",
     "text": [
      "C:\\Users\\xiang\\Downloads\\Python Works\n"
     ]
    }
   ],
   "source": [
    "a = os.getcwd()\n",
    "print(a)"
   ]
  },
  {
   "cell_type": "code",
   "execution_count": 3,
   "metadata": {},
   "outputs": [
    {
     "name": "stdout",
     "output_type": "stream",
     "text": [
      "#pre setting\n",
      "\n",
      "#set pk OrID level\n",
      "\n",
      "  dimension: pk1_orid {\n",
      "\n",
      "    primary_key: yes\n",
      "\n",
      "    hidden: yes\n",
      "\n",
      "    sql:  ${TABLE}.orid  ;;\n",
      "\n",
      "  }\n",
      "\n",
      "\n",
      "\n",
      "#set array as dimension for unnesting columns laterZ\n",
      "\n",
      "  dimension: dim_nps1 {\n",
      "\n",
      "    hidden: yes\n",
      "\n",
      "    sql: ${TABLE}.dim_nps ;;\n",
      "\n",
      "  }\n",
      "\n",
      "\n",
      "\n",
      "\n",
      "\n",
      "#dates\n",
      "\n",
      "  dimension_group: npsdate {\n",
      "\n",
      "    type: time\n",
      "\n",
      "    timeframes: [\n",
      "\n",
      "      raw,\n",
      "\n",
      "      date,\n",
      "\n",
      "      week,\n",
      "\n",
      "      month,\n",
      "\n",
      "      quarter,\n",
      "\n",
      "      year\n",
      "\n",
      "    ]\n",
      "\n",
      "    convert_tz: no\n",
      "\n",
      "    datatype: date\n",
      "\n",
      "    label: \"Last Mile NPS\"\n",
      "\n",
      "    sql: ${TABLE}.NPSDate ;;\n",
      "\n",
      "  }\n",
      "\n",
      "\n",
      "\n",
      "\n",
      "\n",
      "  dimension: Promoters {\n",
      "\n",
      "    type: number\n",
      "\n",
      "    label: \"NPS - Promoters\"\n",
      "\n",
      "    sql: CASE WHEN ${TABLE}.npsscore > 8 THEN 1 ELSE 0 END ;;\n",
      "\n",
      "    group_label: \"Last Mile NPS\"\n",
      "\n",
      "    hidden: yes\n",
      "\n",
      "  }\n",
      "\n",
      "\n",
      "\n",
      "\n",
      "\n",
      "  dimension: FeedbackType {\n",
      "\n",
      "    type: string\n",
      "\n",
      "    label: \"NPS Respondents Groups\"\n",
      "\n",
      "    sql: CASE WHEN ${TABLE}.npsscore <7 THEN 'Detracters'\n",
      "\n",
      "              WHEN ${TABLE}.npsscore BETWEEN 7 AND 8 THEN 'Passives'\n",
      "\n",
      "              WHEN ${TABLE}.npsscore > 8 THEN 'Promoters'\n",
      "\n",
      "              ELSE 'UnKnown' END ;;\n",
      "\n",
      "    group_label: \"Last Mile NPS\"\n",
      "\n",
      "  }\n",
      "\n",
      "\n",
      "\n",
      "\n",
      "\n",
      "\n",
      "\n",
      "\n",
      "\n",
      "##-----------MEASURES-------------##\n",
      "\n",
      "  measure: Order_Count {\n",
      "\n",
      "    description: \"Count of unique orders\"\n",
      "\n",
      "    type: count\n",
      "\n",
      "    label: \"Order Count\"\n",
      "\n",
      "    group_label: \"Order\"\n",
      "\n",
      "    hidden: yes\n",
      "\n",
      "  }\n",
      "\n",
      "\n",
      "\n",
      "  measure: npspercent {\n",
      "\n",
      "    type: number\n",
      "\n",
      "    sql: CASE WHEN COALESCE(${NPSCount},0) = 0 THEN 0 ELSE (${Promoters_count} - ${Detracters_count})/${NPSCount} END;;\n",
      "\n",
      "    label: \"NPS%\"\n",
      "\n",
      "    group_label: \"Last Mile NPS\"\n",
      "\n",
      "    value_format: \"0.00\\%\"\n",
      "\n",
      "}\n",
      "\n",
      "}\n"
     ]
    }
   ],
   "source": [
    "with open('test.txt', 'r') as raw:\n",
    "    for line in raw: \n",
    "        print(line)"
   ]
  },
  {
   "cell_type": "code",
   "execution_count": 4,
   "metadata": {},
   "outputs": [
    {
     "name": "stdout",
     "output_type": "stream",
     "text": [
      "success\n"
     ]
    }
   ],
   "source": [
    "with open('test.txt','r',encoding = 'utf-8') as fr, open('output.txt','w',encoding= 'utf-8') as fd:\n",
    "    for text in fr.readlines():\n",
    "        if text.split():\n",
    "            fd.write(text)\n",
    "    print('success')"
   ]
  },
  {
   "cell_type": "code",
   "execution_count": 5,
   "metadata": {},
   "outputs": [],
   "source": [
    "book = xlwt.Workbook(encoding='utf-8',style_compression=0)"
   ]
  },
  {
   "cell_type": "code",
   "execution_count": 6,
   "metadata": {},
   "outputs": [],
   "source": [
    "sheet = book.add_sheet('Output', cell_overwrite_ok=True)"
   ]
  },
  {
   "cell_type": "code",
   "execution_count": 7,
   "metadata": {},
   "outputs": [],
   "source": [
    "sheet.write(0, 0, 'RN')\n",
    "sheet.write(0, 1, 'Cat')\n",
    "sheet.write(0, 2, 'Label')\n",
    "sheet.write(0, 3, 'SQL')"
   ]
  },
  {
   "cell_type": "code",
   "execution_count": 8,
   "metadata": {
    "scrolled": true
   },
   "outputs": [
    {
     "name": "stdout",
     "output_type": "stream",
     "text": [
      "['#pre setting', '#set pk OrID level', '  dimension: pk1_orid {', '    primary_key: yes', '    hidden: yes', '    sql:  ${TABLE}.orid  ;;', '  }', '#set array as dimension for unnesting columns laterZ', '  dimension: dim_nps1 {', '    hidden: yes', '    sql: ${TABLE}.dim_nps ;;', '  }', '#dates', '  dimension_group: npsdate {', '    type: time', '    timeframes: [', '      raw,', '      date,', '      week,', '      month,', '      quarter,', '      year', '    ]', '    convert_tz: no', '    datatype: date', '    label: \"Last Mile NPS\"', '    sql: ${TABLE}.NPSDate ;;', '  }', '  dimension: Promoters {', '    type: number', '    label: \"NPS - Promoters\"', '    sql: CASE WHEN ${TABLE}.npsscore > 8 THEN 1 ELSE 0 END ;;', '    group_label: \"Last Mile NPS\"', '    hidden: yes', '  }', '  dimension: FeedbackType {', '    type: string', '    label: \"NPS Respondents Groups\"', \"    sql: CASE WHEN ${TABLE}.npsscore <7 THEN 'Detracters'\", \"              WHEN ${TABLE}.npsscore BETWEEN 7 AND 8 THEN 'Passives'\", \"              WHEN ${TABLE}.npsscore > 8 THEN 'Promoters'\", \"              ELSE 'UnKnown' END ;;\", '    group_label: \"Last Mile NPS\"', '  }', '##-----------MEASURES-------------##', '  measure: Order_Count {', '    description: \"Count of unique orders\"', '    type: count', '    label: \"Order Count\"', '    group_label: \"Order\"', '    hidden: yes', '  }', '  measure: npspercent {', '    type: number', '    sql: CASE WHEN COALESCE(${NPSCount},0) = 0 THEN 0 ELSE (${Promoters_count} - ${Detracters_count})/${NPSCount} END;;', '    label: \"NPS%\"', '    group_label: \"Last Mile NPS\"', '    value_format: \"0.00\\\\%\"', '}', '}']\n"
     ]
    }
   ],
   "source": [
    "temp = []\n",
    "with open('output.txt', 'r+') as fd:\n",
    "    for text in fd.readlines():\n",
    "        x=text.replace('\\n', '').replace('\\r', '')\n",
    "        temp.append(x)\n",
    "    print(temp)\n",
    "        "
   ]
  },
  {
   "cell_type": "code",
   "execution_count": 9,
   "metadata": {
    "scrolled": true
   },
   "outputs": [
    {
     "name": "stdout",
     "output_type": "stream",
     "text": [
      "[['#pre', 'setting'], ['#set', 'pk', 'OrID', 'level'], ['dimension:', 'pk1_orid', '{'], ['primary_key:', 'yes'], ['hidden:', 'yes'], ['sql:', '${TABLE}.orid', ';;'], ['}'], ['#set', 'array', 'as', 'dimension', 'for', 'unnesting', 'columns', 'laterZ'], ['dimension:', 'dim_nps1', '{'], ['hidden:', 'yes'], ['sql:', '${TABLE}.dim_nps', ';;'], ['}'], ['#dates'], ['dimension_group:', 'npsdate', '{'], ['type:', 'time'], ['timeframes:', '['], ['raw,'], ['date,'], ['week,'], ['month,'], ['quarter,'], ['year'], [']'], ['convert_tz:', 'no'], ['datatype:', 'date'], ['label:', '\"Last', 'Mile', 'NPS\"'], ['sql:', '${TABLE}.NPSDate', ';;'], ['}'], ['dimension:', 'Promoters', '{'], ['type:', 'number'], ['label:', '\"NPS', '-', 'Promoters\"'], ['sql:', 'CASE', 'WHEN', '${TABLE}.npsscore', '>', '8', 'THEN', '1', 'ELSE', '0', 'END', ';;'], ['group_label:', '\"Last', 'Mile', 'NPS\"'], ['hidden:', 'yes'], ['}'], ['dimension:', 'FeedbackType', '{'], ['type:', 'string'], ['label:', '\"NPS', 'Respondents', 'Groups\"'], ['sql:', 'CASE', 'WHEN', '${TABLE}.npsscore', '<7', 'THEN', \"'Detracters'\"], ['WHEN', '${TABLE}.npsscore', 'BETWEEN', '7', 'AND', '8', 'THEN', \"'Passives'\"], ['WHEN', '${TABLE}.npsscore', '>', '8', 'THEN', \"'Promoters'\"], ['ELSE', \"'UnKnown'\", 'END', ';;'], ['group_label:', '\"Last', 'Mile', 'NPS\"'], ['}'], ['##-----------MEASURES-------------##'], ['measure:', 'Order_Count', '{'], ['description:', '\"Count', 'of', 'unique', 'orders\"'], ['type:', 'count'], ['label:', '\"Order', 'Count\"'], ['group_label:', '\"Order\"'], ['hidden:', 'yes'], ['}'], ['measure:', 'npspercent', '{'], ['type:', 'number'], ['sql:', 'CASE', 'WHEN', 'COALESCE(${NPSCount},0)', '=', '0', 'THEN', '0', 'ELSE', '(${Promoters_count}', '-', '${Detracters_count})/${NPSCount}', 'END;;'], ['label:', '\"NPS%\"'], ['group_label:', '\"Last', 'Mile', 'NPS\"'], ['value_format:', '\"0.00\\\\%\"'], ['}'], ['}']]\n"
     ]
    }
   ],
   "source": [
    "list1 = []\n",
    "for i in temp:\n",
    "    c = i.split()\n",
    "    list1.append(c)\n",
    "print(list1)"
   ]
  },
  {
   "cell_type": "code",
   "execution_count": 10,
   "metadata": {
    "scrolled": false
   },
   "outputs": [
    {
     "name": "stdout",
     "output_type": "stream",
     "text": [
      "{1: ['#pre', 'setting', ['#set', 'pk', 'OrID', 'level'], ['dimension:', 'pk1_orid', '{'], ['primary_key:', 'yes'], ['hidden:', 'yes'], ['sql:', '${TABLE}.orid', ';;']], 2: ['#set', 'array', 'as', 'dimension', 'for', 'unnesting', 'columns', 'laterZ', ['dimension:', 'dim_nps1', '{'], ['hidden:', 'yes'], ['sql:', '${TABLE}.dim_nps', ';;']], 3: ['#dates', ['dimension_group:', 'npsdate', '{'], ['type:', 'time'], ['timeframes:', '['], ['raw,'], ['date,'], ['week,'], ['month,'], ['quarter,'], ['year'], [']'], ['convert_tz:', 'no'], ['datatype:', 'date'], ['label:', '\"Last', 'Mile', 'NPS\"'], ['sql:', '${TABLE}.NPSDate', ';;']], 4: ['dimension:', 'Promoters', '{', ['type:', 'number'], ['label:', '\"NPS', '-', 'Promoters\"'], ['sql:', 'CASE', 'WHEN', '${TABLE}.npsscore', '>', '8', 'THEN', '1', 'ELSE', '0', 'END', ';;'], ['group_label:', '\"Last', 'Mile', 'NPS\"'], ['hidden:', 'yes']], 5: ['dimension:', 'FeedbackType', '{', ['type:', 'string'], ['label:', '\"NPS', 'Respondents', 'Groups\"'], ['sql:', 'CASE', 'WHEN', '${TABLE}.npsscore', '<7', 'THEN', \"'Detracters'\"], ['WHEN', '${TABLE}.npsscore', 'BETWEEN', '7', 'AND', '8', 'THEN', \"'Passives'\"], ['WHEN', '${TABLE}.npsscore', '>', '8', 'THEN', \"'Promoters'\"], ['ELSE', \"'UnKnown'\", 'END', ';;'], ['group_label:', '\"Last', 'Mile', 'NPS\"']], 6: ['##-----------MEASURES-------------##', ['measure:', 'Order_Count', '{'], ['description:', '\"Count', 'of', 'unique', 'orders\"'], ['type:', 'count'], ['label:', '\"Order', 'Count\"'], ['group_label:', '\"Order\"'], ['hidden:', 'yes']], 7: ['measure:', 'npspercent', '{', ['type:', 'number'], ['sql:', 'CASE', 'WHEN', 'COALESCE(${NPSCount},0)', '=', '0', 'THEN', '0', 'ELSE', '(${Promoters_count}', '-', '${Detracters_count})/${NPSCount}', 'END;;'], ['label:', '\"NPS%\"'], ['group_label:', '\"Last', 'Mile', 'NPS\"'], ['value_format:', '\"0.00\\\\%\"']]}\n"
     ]
    }
   ],
   "source": [
    "res = {}\n",
    "j = 1\n",
    "for i in range(len(list1)):\n",
    "    if list1[i] == ['}']:\n",
    "        j += 1\n",
    "    if list1[i] != ['}']:\n",
    "        if j in res:\n",
    "            res[j].append(list1[i])\n",
    "        else:\n",
    "            res[j] = list1[i]\n",
    "print(res)\n",
    "\n",
    "    "
   ]
  },
  {
   "cell_type": "code",
   "execution_count": 11,
   "metadata": {},
   "outputs": [],
   "source": [
    "n = 1\n",
    "Cat = 0\n",
    "Label = 0\n",
    "Sql = 0\n",
    "for k in range(1,len(res)+1):\n",
    "    for v in res[k]:\n",
    "        for i in range(len(v)):\n",
    "            if v[i] == 'dimension:':\n",
    "                Cat = 'dimension'\n",
    "               \n",
    "                \n",
    "            if v[i] == 'measure:':\n",
    "                Cat = 'measure'\n",
    "                \n",
    "                      \n",
    "            if v[i] == 'sql:':\n",
    "                Sql = v[i+1:]\n",
    "            \n",
    "            if v[i] == 'label:':\n",
    "                Label = v[i+1:]\n",
    "           \n",
    "        sheet.write(n, 0, k)\n",
    "        sheet.write(n, 1, Cat)\n",
    "        sheet.write(n, 2, Label)\n",
    "        sheet.write(n, 3, Sql)\n",
    "    n += 1        "
   ]
  },
  {
   "cell_type": "markdown",
   "metadata": {},
   "source": [
    "Cat = 0\n",
    "Label = 0\n",
    "Sql = 0\n",
    "for k in range(1,len(res)+1):\n",
    "    for v in res[k]:\n",
    "        for i in range(len(v)):\n",
    "            if v[i] == 'dimension:':\n",
    "                Cat = 'dimension'\n",
    "                Label = v[i+1]\n",
    "    sheet.write(k, 1, Cat)\n",
    "    sheet.write(k, 2, Label)"
   ]
  },
  {
   "cell_type": "code",
   "execution_count": 12,
   "metadata": {},
   "outputs": [],
   "source": [
    "book.save('Output.xls')"
   ]
  },
  {
   "cell_type": "code",
   "execution_count": null,
   "metadata": {},
   "outputs": [],
   "source": [
    "import os\n",
    "import xlwt\n",
    "\n",
    "with open('test.txt', 'r') as raw:\n",
    "    for line in raw: \n",
    "        print(line)\n",
    "        \n",
    "with open('test.txt','r',encoding = 'utf-8') as fr, open('output.txt','w',encoding= 'utf-8') as fd:\n",
    "    for text in fr.readlines():\n",
    "        if text.split():\n",
    "            fd.write(text)\n",
    "    print('success')\n",
    "\n",
    "    \n",
    "book = xlwt.Workbook(encoding='utf-8',style_compression=0)\n",
    "sheet = book.add_sheet('Output', cell_overwrite_ok=True)\n",
    "\n",
    "sheet.write(0, 0, 'RN')\n",
    "sheet.write(0, 1, 'Cat')\n",
    "sheet.write(0, 2, 'Label')\n",
    "sheet.write(0, 3, 'SQL')\n",
    "    \n",
    "temp = []\n",
    "with open('output.txt', 'r+') as fd:\n",
    "    for text in fd.readlines():\n",
    "        x=text.replace('\\n', '').replace('\\r', '')\n",
    "        temp.append(x)\n",
    "    print(temp)\n",
    "    \n",
    "list1 = []\n",
    "for i in temp:\n",
    "    c = i.split()\n",
    "    list1.append(c)\n",
    "print(list1)    \n",
    "\n",
    "\n",
    "res = {}\n",
    "j = 1\n",
    "for i in range(len(list1)):\n",
    "    if list1[i] == ['}']:\n",
    "        j += 1\n",
    "    if list1[i] != ['}']:\n",
    "        if j in res:\n",
    "            res[j].append(list1[i])\n",
    "        else:\n",
    "            res[j] = list1[i]\n",
    "print(res)\n",
    "\n",
    "\n",
    "n = 1\n",
    "Cat = 0\n",
    "Label = 0\n",
    "Sql = 0\n",
    "for k in range(1,len(res)+1):\n",
    "    for v in res[k]:\n",
    "        for i in range(len(v)):\n",
    "            if v[i] == 'dimension:':\n",
    "                Cat = 'dimension'\n",
    "               \n",
    "                \n",
    "            if v[i] == 'measure:':\n",
    "                Cat = 'measure'\n",
    "                \n",
    "                      \n",
    "            if v[i] == 'sql:':\n",
    "                Sql = v[i+1:]\n",
    "            \n",
    "            if v[i] == 'label:':\n",
    "                Label = v[i+1:]\n",
    "           \n",
    "        sheet.write(n, 0, k)\n",
    "        sheet.write(n, 1, Cat)\n",
    "        sheet.write(n, 2, Label)\n",
    "        sheet.write(n, 3, Sql)\n",
    "    n += 1        \n",
    "    \n",
    "book.save('Output.xls')"
   ]
  }
 ],
 "metadata": {
  "kernelspec": {
   "display_name": "Python 3",
   "language": "python",
   "name": "python3"
  },
  "language_info": {
   "codemirror_mode": {
    "name": "ipython",
    "version": 3
   },
   "file_extension": ".py",
   "mimetype": "text/x-python",
   "name": "python",
   "nbconvert_exporter": "python",
   "pygments_lexer": "ipython3",
   "version": "3.8.3"
  }
 },
 "nbformat": 4,
 "nbformat_minor": 4
}
